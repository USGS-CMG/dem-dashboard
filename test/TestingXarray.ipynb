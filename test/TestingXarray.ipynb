{
 "cells": [
  {
   "cell_type": "code",
   "execution_count": null,
   "metadata": {},
   "outputs": [],
   "source": [
    "import numpy as np\n",
    "import holoviews as hv\n",
    "from holoviews import opts\n",
    "import xarray as xr\n",
    "import xrspatial as xrs\n",
    "from xrspatial import curvature\n",
    "from xrspatial import slope\n",
    "import rioxarray as rx\n",
    "import hvplot.xarray\n",
    "import pyproj\n",
    "import pangaea as pa\n",
    "import rasterio\n",
    "import rasterio.features\n",
    "import rasterio.warp\n",
    "import hvplot.xarray\n",
    "import holoviews as hv\n",
    "import geoviews as gv\n",
    "import panel as pn\n",
    "from math import ceil,floor"
   ]
  },
  {
   "cell_type": "code",
   "execution_count": null,
   "metadata": {},
   "outputs": [],
   "source": [
    "def createlink(x,y):\n",
    "    global link\n",
    "    link = 'https://prd-tnm.s3.amazonaws.com/StagedProducts/Elevation/1/TIFF/'\n",
    "    north = \"{:02d}\".format(round(abs(y)))\n",
    "    west =  \"{:03d}\".format(round(abs(x)))\n",
    "    coordinates = 'n'+north+'w'+west\n",
    "    finallink = link+coordinates+'/USGS_1_'+coordinates+'.tif'\n",
    "    link = finallink\n",
    "    return (finallink,coordinates) "
   ]
  },
  {
   "cell_type": "code",
   "execution_count": null,
   "metadata": {},
   "outputs": [],
   "source": [
    "def ensurepointscorrect(startpoint,endpoint):\n",
    "    #function returns a tuple of points where the first point is the bottom right corner and the second is the top left\n",
    "    vertcheck = startpoint[1]<endpoint[1]\n",
    "    horizcheck = startpoint[0]>endpoint[0]\n",
    "    if vertcheck and horizcheck:\n",
    "        return (startpoint,endpoint)\n",
    "    else:\n",
    "        dx = abs(startpoint[0]-endpoint[0])\n",
    "        dy = abs(startpoint[1]-endpoint[1])\n",
    "        starty = startpoint[1] if vertcheck else endpoint[1]\n",
    "        startx = startpoint[0] if horizcheck else endpoint[0]\n",
    "        endy = starty+dy\n",
    "        endx = startx-dx\n",
    "        return ((startx,starty),(endx,endy))\n",
    "        "
   ]
  },
  {
   "cell_type": "code",
   "execution_count": null,
   "metadata": {},
   "outputs": [],
   "source": [
    "def getregions(startpoint,endpoint):\n",
    "    #NOTE: this functions treats all points as if they were soley positive\n",
    "    #NOTE: this only works if the startpoint is below the end point. Remember to compensate for that in code.\n",
    "    start = [floor(float(abs(startpoint[0]))),floor(float(abs(startpoint[1])))]\n",
    "    end = [ceil(float(abs(endpoint[0]))),ceil(float(abs(endpoint[1])))]\n",
    "    regions = []\n",
    "    for horiz in range(start[0]+1,end[0]+1):\n",
    "        for vert in range(start[1]+1,end[1]+1):\n",
    "            regions.append((horiz,vert))\n",
    "    return regions"
   ]
  },
  {
   "cell_type": "code",
   "execution_count": null,
   "metadata": {},
   "outputs": [],
   "source": [
    "def getpoints(startpoint,endpoint):\n",
    "    xs = [abs(startpoint[0]),abs(endpoint[0])]\n",
    "    xs+=list(range(floor(abs(startpoint[0]))+1,ceil(abs(endpoint[0]))))\n",
    "    ys = [startpoint[1],endpoint[1]]\n",
    "    ys+=list(range(floor(abs(startpoint[1]))+1,ceil(abs(endpoint[1]))))\n",
    "    points = []\n",
    "    for x in xs:\n",
    "        for y in ys:\n",
    "            points.append((x,y))\n",
    "    return points"
   ]
  },
  {
   "cell_type": "code",
   "execution_count": null,
   "metadata": {},
   "outputs": [],
   "source": [
    "def getregiondata(points):\n",
    "    #Function must be given the largest corner (both x and y) of all regions (treating the region as if all coordinates were positive)\n",
    "    regions = []\n",
    "    for p in points:\n",
    "        try:\n",
    "            place = createlink(p[0],p[1])[0]\n",
    "            data = rx.open_rasterio(place, masked=True).squeeze().astype('float64')\n",
    "            data.attrs = xr.open_rasterio(place).attrs\n",
    "            regions.append(data)\n",
    "        except:\n",
    "            print('point '+str(p)+' is not avaliable')\n",
    "    return regions"
   ]
  },
  {
   "cell_type": "code",
   "execution_count": null,
   "metadata": {},
   "outputs": [],
   "source": [
    "def bounddata(startpoint,endpoint):\n",
    "    fixed = ensurepointscorrect(startpoint,endpoint)\n",
    "    print(fixed)\n",
    "    regions = getregions(fixed[0],fixed[1])\n",
    "    unprocessed = getregiondata(regions)\n",
    "    large = combineregions(unprocessed)\n",
    "    processed = large.sel(x=slice(endpoint[0],startpoint[0]),y=slice(endpoint[1],startpoint[1]))\n",
    "    processed.attrs['res'] = (1,1)\n",
    "    return processed"
   ]
  },
  {
   "cell_type": "code",
   "execution_count": null,
   "metadata": {},
   "outputs": [],
   "source": [
    "# def combineregions(data):\n",
    "#     for tile in range(len(data)):\n",
    "#         box = data[tile]\n",
    "#         box = box.where(box>0)\n",
    "#         leny = len(box)\n",
    "#         lenx = len(box[0])\n",
    "#         startpoint = box[0][0]\n",
    "#         endpoint = box[leny-1][lenx-1]\n",
    "#         box.name = 'box'\n",
    "#         print(round(float(startpoint.x)))\n",
    "#         print(round(float(endpoint.x)))\n",
    "#         box = box.sel(x=slice(round(float(startpoint.x)),round(float(endpoint.x))),y=slice(round(float(startpoint.y)),round(float(endpoint.y))))\n",
    "#     return xr.combine_by_coords([sq.to_dataset() for sq in data]).to_array()[0]"
   ]
  },
  {
   "cell_type": "code",
   "execution_count": null,
   "metadata": {},
   "outputs": [],
   "source": [
    "def combineregions(data):\n",
    "    processed=[]\n",
    "    for tile in data:\n",
    "        # Removes 'halo region' which extands beyond the degree square\n",
    "        startpointx = round(float(tile.x[0]))\n",
    "        startpointy = round(float(tile.y[0]))\n",
    "        endpointx = round(float(tile.x[-1]))\n",
    "        endpointy = round(float(tile.y[-1]))\n",
    "        tile.name = 'box'\n",
    "        tile = tile.sel(x=slice(startpointx,endpointx),y=slice(startpointy,endpointy))\n",
    "        processed.append(tile)\n",
    "    return xr.combine_by_coords([sq.to_dataset() for sq in processed]).to_array()[0]"
   ]
  },
  {
   "cell_type": "code",
   "execution_count": null,
   "metadata": {},
   "outputs": [],
   "source": [
    "n54w096=xr.open_rasterio(\"https://prd-tnm.s3.amazonaws.com/StagedProducts/Elevation/1/TIFF/n54w096/USGS_1_n54w096.tif\").squeeze()\n",
    "n54w097=xr.open_rasterio(\"https://prd-tnm.s3.amazonaws.com/StagedProducts/Elevation/1/TIFF/n54w097/USGS_1_n54w097.tif\").squeeze()\n",
    "n55w097=xr.open_rasterio(\"https://prd-tnm.s3.amazonaws.com/StagedProducts/Elevation/1/TIFF/n55w097/USGS_1_n55w097.tif\").squeeze()\n",
    "n55w096=xr.open_rasterio(\"https://prd-tnm.s3.amazonaws.com/StagedProducts/Elevation/1/TIFF/n55w096/USGS_1_n55w096.tif\").squeeze()"
   ]
  },
  {
   "cell_type": "code",
   "execution_count": null,
   "metadata": {},
   "outputs": [],
   "source": [
    "trying = createlink(-88,38)[0]"
   ]
  },
  {
   "cell_type": "code",
   "execution_count": null,
   "metadata": {},
   "outputs": [],
   "source": [
    "trying"
   ]
  },
  {
   "cell_type": "code",
   "execution_count": null,
   "metadata": {},
   "outputs": [],
   "source": [
    "see=xr.open_rasterio('https://prd-tnm.s3.amazonaws.com/StagedProducts/Elevation/1/TIFF/n38w088/USGS_1_n38w088.tif').squeeze()"
   ]
  },
  {
   "cell_type": "code",
   "execution_count": null,
   "metadata": {},
   "outputs": [],
   "source": [
    "see.attrs['res'] = (1,1)"
   ]
  },
  {
   "cell_type": "code",
   "execution_count": null,
   "metadata": {},
   "outputs": [],
   "source": [
    "see.where(see>0)"
   ]
  },
  {
   "cell_type": "code",
   "execution_count": null,
   "metadata": {},
   "outputs": [],
   "source": [
    "see"
   ]
  },
  {
   "cell_type": "code",
   "execution_count": null,
   "metadata": {},
   "outputs": [],
   "source": [
    "see=see.astype('float64')"
   ]
  },
  {
   "cell_type": "code",
   "execution_count": null,
   "metadata": {},
   "outputs": [],
   "source": [
    "see.attrs['res']=(1,1)"
   ]
  },
  {
   "cell_type": "code",
   "execution_count": null,
   "metadata": {},
   "outputs": [],
   "source": [
    "see"
   ]
  },
  {
   "cell_type": "code",
   "execution_count": null,
   "metadata": {},
   "outputs": [],
   "source": [
    "data = curvature(see)"
   ]
  },
  {
   "cell_type": "code",
   "execution_count": null,
   "metadata": {},
   "outputs": [],
   "source": [
    "data"
   ]
  },
  {
   "cell_type": "code",
   "execution_count": null,
   "metadata": {},
   "outputs": [],
   "source": [
    "data.hvplot.image(x='x',y='y',rasterize = True,geo=True,tiles = \"OSM\",cmap = 'inferno', alpha = 20,frame_width=300, frame_height=300)"
   ]
  },
  {
   "cell_type": "code",
   "execution_count": null,
   "metadata": {},
   "outputs": [],
   "source": [
    "hkjk"
   ]
  },
  {
   "cell_type": "code",
   "execution_count": null,
   "metadata": {},
   "outputs": [],
   "source": [
    "#large = combineregions([n54w096,n54w097,n55w097,n55w096])\n",
    "points =ensurepointscorrect((-95,53),(-94,52))\n",
    "large = bounddata(points[0],points[1])"
   ]
  },
  {
   "cell_type": "code",
   "execution_count": null,
   "metadata": {},
   "outputs": [],
   "source": [
    "large.attrs['res'] = (1,1)"
   ]
  },
  {
   "cell_type": "code",
   "execution_count": null,
   "metadata": {},
   "outputs": [],
   "source": [
    "sloped = xrs.curvature(large)"
   ]
  },
  {
   "cell_type": "code",
   "execution_count": null,
   "metadata": {},
   "outputs": [],
   "source": [
    "sloped.hvplot.image(x='x',y='y',rasterize = True,geo=True,tiles = \"OSM\",cmap = 'inferno', alpha = 20,frame_width=300, frame_height=300)"
   ]
  }
 ],
 "metadata": {
  "kernelspec": {
   "display_name": "Python [conda env:dem]",
   "language": "python",
   "name": "conda-env-dem-py"
  },
  "language_info": {
   "codemirror_mode": {
    "name": "ipython",
    "version": 3
   },
   "file_extension": ".py",
   "mimetype": "text/x-python",
   "name": "python",
   "nbconvert_exporter": "python",
   "pygments_lexer": "ipython3",
   "version": "3.8.4"
  }
 },
 "nbformat": 4,
 "nbformat_minor": 4
}
