{
 "cells": [
  {
   "cell_type": "code",
   "execution_count": null,
   "metadata": {},
   "outputs": [],
   "source": [
    "import rasterio\n",
    "import numpy as np\n",
    "import xarray as xr\n",
    "import hvplot.xarray\n",
    "import holoviews as hv\n",
    "import geoviews as gv\n",
    "import rioxarray as rx\n",
    "import os\n",
    "import panel as pn\n",
    "from holoviews import opts\n",
    "hv.extension('bokeh', width=90)\n",
    "pn.extension()\n"
   ]
  },
  {
   "cell_type": "code",
   "execution_count": null,
   "metadata": {},
   "outputs": [],
   "source": [
    "os.environ[\"AWS_REQUEST_PAYER\"] = \"requester\" "
   ]
  },
  {
   "cell_type": "markdown",
   "metadata": {},
   "source": [
    "# Basic idea with map and max and min height"
   ]
  },
  {
   "cell_type": "code",
   "execution_count": null,
   "metadata": {},
   "outputs": [],
   "source": [
    "places={}\n",
    "places['St.Thomas']=\"https://prd-tnm.s3.amazonaws.com/StagedProducts/Elevation/1/TIFF/n19w065/USGS_1_n19w065.tif\"\n",
    "places['St.Croix']=\"https://prd-tnm.s3.amazonaws.com/StagedProducts/Elevation/1/TIFF/n18w065/USGS_1_n18w065.tif\"\n",
    "places['Cornell']='https://prd-tnm.s3.amazonaws.com/StagedProducts/Elevation/1/TIFF/n42w076/USGS_1_n42w076.tif'"
   ]
  },
  {
   "cell_type": "code",
   "execution_count": null,
   "metadata": {},
   "outputs": [],
   "source": [
    "data = xr.open_rasterio(places['St.Thomas'])"
   ]
  },
  {
   "cell_type": "code",
   "execution_count": null,
   "metadata": {},
   "outputs": [],
   "source": [
    "maxheight = float(data.where(data>0).max())\n",
    "minheight = float(data.where(data>0).min())"
   ]
  },
  {
   "cell_type": "code",
   "execution_count": null,
   "metadata": {},
   "outputs": [],
   "source": [
    "css = '''\n",
    ".panel-widget-box {\n",
    "  background: #f0f0f0;\n",
    "  border-radius: 5px;\n",
    "  border: 1px black solid;\n",
    "}\n",
    "'''\n",
    "pn.extension(raw_css=[css])"
   ]
  },
  {
   "cell_type": "code",
   "execution_count": null,
   "metadata": {},
   "outputs": [],
   "source": [
    "title = pn.pane.Markdown('# Visualizing Graphical Data')\n",
    "greatest = pn.pane.Markdown('# Max height is '+ str(maxheight))\n",
    "least = pn.pane.Markdown('# The Min height is '+ str(minheight))"
   ]
  },
  {
   "cell_type": "code",
   "execution_count": null,
   "metadata": {},
   "outputs": [],
   "source": [
    "def options(Where):\n",
    "    data = xr.open_rasterio(Where)\n",
    "    data = data.where(data>0)[0,:,:]\n",
    "    maxheight = round(float(data.where(data>0).max()))\n",
    "    minheight = round(float(data.where(data>0).min()))\n",
    "    greatest.object = '# Max height: '+ str(maxheight)\n",
    "    least.object = '# Min height: '+ str(minheight)\n",
    "    return gv.tile_sources.OSM *data.hvplot.quadmesh(rasterize=True,geo=True,colormap='viridis',project = True).opts(alpha=0.7)"
   ]
  },
  {
   "cell_type": "code",
   "execution_count": null,
   "metadata": {},
   "outputs": [],
   "source": [
    "pn.Column(\n",
    "    title,\n",
    "    pn.Row(\n",
    "        pn.Column(pn.interact(options, Where=places),css_classes=['panel-widget-box'],margin=25),\n",
    "        pn.Column(greatest,least,css_classes=['panel-widget-box'],margin=25),\n",
    "        margin = (50,100),\n",
    "        background='#f0f0f0'\n",
    "    ),\n",
    "    margin = 100,\n",
    "    css_classes=['panel-widget-box'],\n",
    "    background='#f0f0f0'\n",
    ")"
   ]
  },
  {
   "cell_type": "markdown",
   "metadata": {},
   "source": [
    "# Atempted to make a level curve\n",
    "note: need to ask why this one does not have a band"
   ]
  },
  {
   "cell_type": "code",
   "execution_count": null,
   "metadata": {},
   "outputs": [],
   "source": [
    "#level = xr.open_rasterio(places['St.Thomas'])"
   ]
  },
  {
   "cell_type": "code",
   "execution_count": null,
   "metadata": {},
   "outputs": [],
   "source": [
    "#level"
   ]
  },
  {
   "cell_type": "code",
   "execution_count": null,
   "metadata": {},
   "outputs": [],
   "source": [
    "#level = data.where(data>0)[0,:,:]\n",
    "#level.name = \"Level Curves\""
   ]
  },
  {
   "cell_type": "code",
   "execution_count": null,
   "metadata": {},
   "outputs": [],
   "source": [
    "#gv.tile_sources.OSM*level.hvplot.bivariate(x='x', y='y', width=600, height=800, geo = True)"
   ]
  },
  {
   "cell_type": "code",
   "execution_count": null,
   "metadata": {},
   "outputs": [],
   "source": [
    "#shade(data.where(data>0)[0,:,:])"
   ]
  },
  {
   "cell_type": "code",
   "execution_count": null,
   "metadata": {},
   "outputs": [],
   "source": []
  }
 ],
 "metadata": {
  "kernelspec": {
   "display_name": "Python 3",
   "language": "python",
   "name": "python3"
  },
  "language_info": {
   "codemirror_mode": {
    "name": "ipython",
    "version": 3
   },
   "file_extension": ".py",
   "mimetype": "text/x-python",
   "name": "python",
   "nbconvert_exporter": "python",
   "pygments_lexer": "ipython3",
   "version": "3.7.6"
  }
 },
 "nbformat": 4,
 "nbformat_minor": 4
}
