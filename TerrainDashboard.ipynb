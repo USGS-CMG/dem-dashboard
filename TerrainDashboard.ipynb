{
 "cells": [
  {
   "cell_type": "code",
   "execution_count": null,
   "metadata": {},
   "outputs": [],
   "source": [
    "import rasterio\n",
    "import numpy as np\n",
    "import xarray as xr\n",
    "import hvplot.xarray\n",
    "import holoviews as hv\n",
    "import geoviews as gv\n",
    "#import rioxarray as rx\n",
    "import os\n",
    "import panel as pn\n",
    "from holoviews import opts\n",
    "hv.extension('bokeh', width=90)\n",
    "pn.extension()\n",
    "import xrspatial as xrs\n",
    "from datashader.colors import Elevation\n",
    "from datashader.transfer_functions import shade"
   ]
  },
  {
   "cell_type": "code",
   "execution_count": null,
   "metadata": {},
   "outputs": [],
   "source": [
    "os.environ[\"AWS_REQUEST_PAYER\"] = \"requester\" "
   ]
  },
  {
   "cell_type": "markdown",
   "metadata": {},
   "source": [
    "# Basic idea with map and max and min height"
   ]
  },
  {
   "cell_type": "code",
   "execution_count": null,
   "metadata": {},
   "outputs": [],
   "source": [
    "places={}\n",
    "places['St.Thomas']=\"https://prd-tnm.s3.amazonaws.com/StagedProducts/Elevation/1/TIFF/n19w065/USGS_1_n19w065.tif\"\n",
    "places['St.Croix']=\"https://prd-tnm.s3.amazonaws.com/StagedProducts/Elevation/1/TIFF/n18w065/USGS_1_n18w065.tif\"\n",
    "places['Cornell']='https://prd-tnm.s3.amazonaws.com/StagedProducts/Elevation/1/TIFF/n42w076/USGS_1_n42w076.tif'"
   ]
  },
  {
   "cell_type": "code",
   "execution_count": null,
   "metadata": {},
   "outputs": [],
   "source": [
    "data = xr.open_rasterio(places['St.Thomas'])"
   ]
  },
  {
   "cell_type": "code",
   "execution_count": null,
   "metadata": {},
   "outputs": [],
   "source": [
    "maxheight = float(data.where(data>0).max())\n",
    "minheight = float(data.where(data>0).min())"
   ]
  },
  {
   "cell_type": "code",
   "execution_count": null,
   "metadata": {},
   "outputs": [],
   "source": [
    "css = '''\n",
    ".panel-widget-box {\n",
    "  background: #f0f0f0;\n",
    "  border-radius: 5px;\n",
    "  border: 1px black solid;\n",
    "}\n",
    "'''\n",
    "pn.extension(raw_css=[css])"
   ]
  },
  {
   "cell_type": "code",
   "execution_count": null,
   "metadata": {},
   "outputs": [],
   "source": [
    "title = pn.pane.Markdown('# Visualizing Graphical Data')\n",
    "greatest = pn.pane.Markdown('# Max height is '+ str(maxheight))\n",
    "least = pn.pane.Markdown('# The Min height is '+ str(minheight))"
   ]
  },
  {
   "cell_type": "code",
   "execution_count": null,
   "metadata": {},
   "outputs": [],
   "source": [
    "def options(Where):\n",
    "    data = xr.open_rasterio(Where)\n",
    "    data = data.where(data>0)[0,:,:]\n",
    "    maxheight = round(float(data.where(data>0).max()))\n",
    "    minheight = round(float(data.where(data>0).min()))\n",
    "    greatest.object = '# Max height: '+ str(maxheight)\n",
    "    least.object = '# Min height: '+ str(minheight)\n",
    "    return gv.tile_sources.OSM*data.hvplot.quadmesh(rasterize=True,geo=True,colormap='viridis',project = True, tiles = 'OSM')"
   ]
  },
  {
   "cell_type": "code",
   "execution_count": null,
   "metadata": {},
   "outputs": [],
   "source": [
    "pn.Column(\n",
    "    title,\n",
    "    pn.Row(\n",
    "        pn.Column(pn.interact(options, Where=places),css_classes=['panel-widget-box'],margin=25),\n",
    "        pn.Column(greatest,least,css_classes=['panel-widget-box'],margin=25),\n",
    "        margin = (50,100),\n",
    "        background='#e3c3ee',\n",
    "        css_classes=['panel-widget-box']\n",
    "    ),\n",
    "    margin = 100,\n",
    "    css_classes=['panel-widget-box'],\n",
    "    background='#f96080'\n",
    ")"
   ]
  },
  {
   "cell_type": "markdown",
   "metadata": {},
   "source": [
    "# Try to bring in xarray-spatial"
   ]
  },
  {
   "cell_type": "code",
   "execution_count": null,
   "metadata": {},
   "outputs": [],
   "source": [
    "hvplot.help('image', docstring=False, generic=False)"
   ]
  },
  {
   "cell_type": "code",
   "execution_count": null,
   "metadata": {},
   "outputs": [],
   "source": [
    "forxr = data.where(data>0)[0,:,:]"
   ]
  },
  {
   "cell_type": "code",
   "execution_count": null,
   "metadata": {},
   "outputs": [],
   "source": [
    "hillshaded = xrs.hillshade(forxr)"
   ]
  },
  {
   "cell_type": "code",
   "execution_count": null,
   "metadata": {},
   "outputs": [],
   "source": [
    "slates = xrs.quantile(forxr,k=100,ignore_vals=(0,))"
   ]
  },
  {
   "cell_type": "code",
   "execution_count": null,
   "metadata": {},
   "outputs": [],
   "source": [
    "#hillshaded.hvplot.image(rasterize = True, geo = True, tiles = 'OSM', cmap = 'kg')\n",
    "slates.hvplot.image(rasterize = True, geo = True, tiles = 'OSM', cmap = 'inferno')"
   ]
  },
  {
   "cell_type": "markdown",
   "metadata": {},
   "source": [
    "# Putting it all together"
   ]
  },
  {
   "cell_type": "code",
   "execution_count": null,
   "metadata": {},
   "outputs": [],
   "source": [
    "maps = ['inferno','blues','kb','kgy','viridis']\n",
    "choices = ['Shaded','Quantile','Height Range','Slope','Aspect']"
   ]
  },
  {
   "cell_type": "code",
   "execution_count": null,
   "metadata": {},
   "outputs": [],
   "source": [
    "def represent(Location = places['St.Thomas'], DisplayType = 'Shaded', ColorMap='inferno'):\n",
    "    data = xr.open_rasterio(Location)\n",
    "    data = data.where(data>0)[0,:,:]\n",
    "    maxheight = round(float(data.where(data>0).max()))\n",
    "    minheight = round(float(data.where(data>0).min()))\n",
    "    greatest.object = '# Max height: '+ str(maxheight)\n",
    "    least.object = '# Min height: '+ str(minheight)\n",
    "    if DisplayType == 'Shaded':\n",
    "        shaded = xrs.hillshade(data)\n",
    "        return shaded.hvplot.image(rasterize = True, geo = True, tiles = 'OSM', cmap = ColorMap, alpha = 20)\n",
    "    elif DisplayType == 'Quantile':\n",
    "        disp = lambda level: xrs.quantile(data,k=level,ignore_vals=(0,)).hvplot.image(rasterize = True, geo = True, tiles = 'OSM', cmap = ColorMap)\n",
    "        graph =pn.interact(disp, level = pn.widgets.IntSlider(start=1,end=50,step=1,value=10))\n",
    "        return pn.Row(graph)\n",
    "    elif DisplayType == 'Height Range':\n",
    "        maxheight = round(float(data.where(data>0).max()))\n",
    "        minheight = round(float(data.where(data>0).min()))\n",
    "        slider=pn.widgets.RangeSlider(start=minheight,end=maxheight,step=1,value=(minheight,maxheight))\n",
    "        hrange = lambda border: xrs.hillshade(data.where(np.logical_and(data>border[0],data<border[1]))).hvplot.image(rasterize = True, geo = True, tiles = 'OSM', cmap = ColorMap)\n",
    "        graph =pn.interact(hrange, border = slider)\n",
    "        return pn.Row(graph)\n",
    "    elif DisplayType == 'Slope':\n",
    "        sloped = xrs.slope(data)\n",
    "        maxslope = round(float(sloped.where(sloped>0).max()))\n",
    "        minslope = round(float(sloped.where(sloped>0).min()))\n",
    "        slider=pn.widgets.RangeSlider(start=minslope,end=maxslope,step=1,value=(minslope,maxslope))\n",
    "        srange = lambda border: sloped.where(np.logical_and(sloped>border[0],sloped<border[1])).hvplot.image(rasterize = True, geo = True, tiles = 'OSM', cmap = ColorMap)\n",
    "        graph =pn.interact(srange, border = slider)\n",
    "        return pn.Row(graph)\n",
    "    elif DisplayType == 'Aspect':\n",
    "        aspect = xrs.aspect(data)\n",
    "        maxasp = round(float(aspect.where(aspect>0).max()))\n",
    "        minasp = round(float(aspect.where(aspect>0).min()))\n",
    "        slider=pn.widgets.RangeSlider(start=minasp,end=maxasp,step=1,value=(minasp,maxasp))\n",
    "        arange = lambda border: aspect.where(np.logical_and(aspect>border[0],aspect<border[1])).hvplot.image(rasterize = True, geo = True, tiles = 'OSM', cmap = ColorMap)\n",
    "        graph =pn.interact(arange, border = slider)\n",
    "        return pn.Row(graph)"
   ]
  },
  {
   "cell_type": "code",
   "execution_count": null,
   "metadata": {},
   "outputs": [],
   "source": [
    "maxheight = round(float(data.where(data>0).max()))\n",
    "minheight = round(float(data.where(data>0).min()))"
   ]
  },
  {
   "cell_type": "code",
   "execution_count": null,
   "metadata": {},
   "outputs": [],
   "source": [
    "greatest = pn.pane.Markdown('# Max height is '+ str(maxheight))\n",
    "least = pn.pane.Markdown('# The Min height is '+ str(minheight))"
   ]
  },
  {
   "cell_type": "code",
   "execution_count": null,
   "metadata": {},
   "outputs": [],
   "source": [
    "dashboard = pn.Row(pn.interact(represent, Location = places, DisplayType = choices, ColorMap = maps),\n",
    "       pn.Column(greatest,least,css_classes=['panel-widget-box'],margin=25))"
   ]
  },
  {
   "cell_type": "code",
   "execution_count": null,
   "metadata": {},
   "outputs": [],
   "source": [
    "#dashboard"
   ]
  },
  {
   "cell_type": "code",
   "execution_count": null,
   "metadata": {},
   "outputs": [],
   "source": [
    "dashboard.servable()"
   ]
  },
  {
   "cell_type": "code",
   "execution_count": null,
   "metadata": {},
   "outputs": [],
   "source": []
  }
 ],
 "metadata": {
  "kernelspec": {
   "display_name": "Python [conda env:dem]",
   "language": "python",
   "name": "conda-env-dem-py"
  },
  "language_info": {
   "codemirror_mode": {
    "name": "ipython",
    "version": 3
   },
   "file_extension": ".py",
   "mimetype": "text/x-python",
   "name": "python",
   "nbconvert_exporter": "python",
   "pygments_lexer": "ipython3",
   "version": "3.8.4"
  }
 },
 "nbformat": 4,
 "nbformat_minor": 4
}
