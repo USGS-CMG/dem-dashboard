{
 "cells": [
  {
   "cell_type": "code",
   "execution_count": null,
   "metadata": {},
   "outputs": [],
   "source": [
    "import rasterio\n",
    "import numpy as np\n",
    "import xarray as xr\n",
    "import hvplot.xarray\n",
    "import holoviews as hv\n",
    "import geoviews as gv\n",
    "import rioxarray as rx\n",
    "import os\n",
    "import panel as pn\n",
    "from holoviews import opts\n",
    "hv.extension('bokeh', width=90)\n",
    "pn.extension()\n",
    "import xrspatial as xrs\n",
    "from holoviews.streams import SingleTap\n",
    "from decimal import Decimal\n",
    "from math import isnan"
   ]
  },
  {
   "cell_type": "code",
   "execution_count": null,
   "metadata": {},
   "outputs": [],
   "source": [
    "places={}\n",
    "places['St.Thomas']=\"https://prd-tnm.s3.amazonaws.com/StagedProducts/Elevation/1/TIFF/n19w065/USGS_1_n19w065.tif\"\n",
    "places['St.Croix']=\"https://prd-tnm.s3.amazonaws.com/StagedProducts/Elevation/1/TIFF/n18w065/USGS_1_n18w065.tif\"\n",
    "places['Cornell']='https://prd-tnm.s3.amazonaws.com/StagedProducts/Elevation/1/TIFF/n42w076/USGS_1_n42w076.tif'"
   ]
  },
  {
   "cell_type": "code",
   "execution_count": null,
   "metadata": {},
   "outputs": [],
   "source": [
    "maps = ['inferno','blues','kb','kgy','viridis']"
   ]
  },
  {
   "cell_type": "markdown",
   "metadata": {},
   "source": [
    "# Creating variables which will store shared value"
   ]
  },
  {
   "cell_type": "code",
   "execution_count": null,
   "metadata": {},
   "outputs": [],
   "source": [
    "data = data=xr.open_rasterio(\"https://prd-tnm.s3.amazonaws.com/StagedProducts/Elevation/1/TIFF/n19w065/USGS_1_n19w065.tif\")\n",
    "sloped =0\n",
    "maxheight = 0\n",
    "minheight = 0\n",
    "maxslope = 0\n",
    "minslope = 0\n",
    "maxaspect = 0\n",
    "minaspect = 0\n",
    "mincurve = 0\n",
    "maxcurve = 0\n",
    "test = ''\n",
    "link = ''"
   ]
  },
  {
   "cell_type": "markdown",
   "metadata": {},
   "source": [
    "# Making useful helper functions"
   ]
  },
  {
   "cell_type": "code",
   "execution_count": null,
   "metadata": {},
   "outputs": [],
   "source": [
    "def createlink(x,y):\n",
    "    global link\n",
    "    link = 'https://prd-tnm.s3.amazonaws.com/StagedProducts/Elevation/1/TIFF/'\n",
    "    north = \"{:02d}\".format(round(abs(y)))\n",
    "    west =  \"{:03d}\".format(round(abs(x)))\n",
    "    coordinates = 'n'+north+'w'+west\n",
    "    finallink = link+coordinates+'/USGS_1_'+coordinates+'.tif'\n",
    "    link = finallink\n",
    "    return (finallink,coordinates) "
   ]
  },
  {
   "cell_type": "code",
   "execution_count": null,
   "metadata": {},
   "outputs": [],
   "source": [
    "def getmaxmin(dset):\n",
    "    return (round(float(dset.min())),round(float(dset.max())))"
   ]
  },
  {
   "cell_type": "code",
   "execution_count": null,
   "metadata": {},
   "outputs": [],
   "source": [
    "def getpercentage(orig,new):\n",
    "    origcount = int((~np.isnan(orig.values)).sum())\n",
    "    newcount = int((~np.isnan(new.values)).sum())\n",
    "    return round((newcount/origcount)*100)"
   ]
  },
  {
   "cell_type": "markdown",
   "metadata": {},
   "source": [
    "# Making widgets and Text Displays"
   ]
  },
  {
   "cell_type": "code",
   "execution_count": null,
   "metadata": {},
   "outputs": [],
   "source": [
    "#locationwidget = pn.widgets.Select(name='Select Location', options=places)\n",
    "cmapwidget = pn.widgets.Select(name='Select Color Map', options=maps)\n",
    "heightquantileslider = pn.widgets.IntSlider(name='Height Quantile Slider', start=0, end=32, value=7)\n",
    "heightrangeslider = pn.widgets.RangeSlider(step=1,start = minheight, end = maxheight, value=(minheight,maxheight))\n",
    "sloperangeslider = pn.widgets.RangeSlider(end=maxslope,step=1,value=(minslope,maxslope))\n",
    "aspectrangeslider = pn.widgets.RangeSlider(start = minaspect, end=maxaspect,step=1,value=(minaspect,maxaspect))\n",
    "curveaturerangeslider = pn.widgets.RangeSlider(start = mincurve, end=maxcurve,step=1,value=(mincurve,maxcurve))"
   ]
  },
  {
   "cell_type": "code",
   "execution_count": null,
   "metadata": {},
   "outputs": [],
   "source": [
    "heightp = pn.pane.Markdown()\n",
    "heightpercentpanel = pn.Column(heightp,css_classes=['panel-widget-box'],margin=25)"
   ]
  },
  {
   "cell_type": "markdown",
   "metadata": {},
   "source": [
    "# Creating the displays for each tab"
   ]
  },
  {
   "cell_type": "code",
   "execution_count": null,
   "metadata": {},
   "outputs": [],
   "source": [
    "tiles = gv.tile_sources.EsriImagery().opts(width=600, height=550).redim.range(Latitude=(-50,50), Longitude=(-50,50))\n",
    "#tiles = gv.tile_sources.EsriImagery().opts(width=600, height=550).opts(xlim=(-50, 50), ylim=(-50, 50))\n",
    "\n",
    "tap_stream = SingleTap(source=tiles, x=65, y=19)\n",
    "\n",
    "@pn.depends(tap_stream.param.x, tap_stream.param.y)\n",
    "def lat_lon(x,y):\n",
    "    return f\"### Lat: {y:.4f} Lon: {x:.4f}\"\n",
    "\n",
    "def interactive_click(x, y):\n",
    "    return gv.Points([(x,y)])\n",
    "click = hv.DynamicMap(interactive_click, streams=[tap_stream])"
   ]
  },
  {
   "cell_type": "code",
   "execution_count": null,
   "metadata": {},
   "outputs": [],
   "source": [
    "@pn.depends(colormap = cmapwidget,x=tap_stream.param.x, y=tap_stream.param.y)\n",
    "def options(colormap,x,y):\n",
    "    global data\n",
    "    global test\n",
    "    try:\n",
    "        place = createlink(x,y)[0]\n",
    "        data = rx.open_rasterio(place, masked=True).squeeze().astype('float64')\n",
    "        data.attrs = xr.open_rasterio(place).attrs\n",
    "        data = data.where(data>0)\n",
    "        test = 'All good!'\n",
    "    except:\n",
    "        test = 'There was an error'"
   ]
  },
  {
   "cell_type": "code",
   "execution_count": null,
   "metadata": {},
   "outputs": [],
   "source": [
    "@pn.depends(x=tap_stream.param.x, y=tap_stream.param.y)\n",
    "def shaded(x,y):\n",
    "    global data\n",
    "    shade = xrs.hillshade(data)\n",
    "    return shade.hvplot.image(rasterize = True, geo = True, tiles = 'OSM', cmap = cmapwidget, alpha = 20)"
   ]
  },
  {
   "cell_type": "code",
   "execution_count": null,
   "metadata": {},
   "outputs": [],
   "source": [
    "@pn.depends(x=tap_stream.param.x, y=tap_stream.param.y, level = heightquantileslider)\n",
    "def quantile(x,y, level):\n",
    "    global data\n",
    "    quant = xrs.quantile(data,k=level,ignore_vals=(0,))\n",
    "    return quant.hvplot.image(rasterize = True, geo = True, tiles = 'OSM', cmap = cmapwidget, alpha = 20)"
   ]
  },
  {
   "cell_type": "code",
   "execution_count": null,
   "metadata": {},
   "outputs": [],
   "source": [
    "@pn.depends(x=tap_stream.param.x, y=tap_stream.param.y, border = heightrangeslider)\n",
    "def heightrange(x,y, border):\n",
    "    global maxheight\n",
    "    global minheight\n",
    "    percentheight = 0\n",
    "    global data\n",
    "    (minheight,maxheight) = getmaxmin(data)\n",
    "    heightrangeslider.start = minheight\n",
    "    heightrangeslider.end = maxheight\n",
    "    manipulate = data.where(np.logical_and(data>border[0],data<border[1]))\n",
    "    heightp.object = '# Your selected range is '+ str(getpercentage(data,manipulate))+'% of this region'\n",
    "    shade = xrs.hillshade(manipulate)    \n",
    "    return shade.hvplot.image(rasterize = True, geo = True, tiles = 'OSM', cmap = cmapwidget)"
   ]
  },
  {
   "cell_type": "code",
   "execution_count": null,
   "metadata": {},
   "outputs": [],
   "source": [
    "@pn.depends(x=tap_stream.param.x, y=tap_stream.param.y, border = sloperangeslider)\n",
    "def slope(x,y, border):\n",
    "    global maxslope\n",
    "    global minslope\n",
    "    global data\n",
    "    sloped = xrs.slope(data)\n",
    "    (minslope,maxslope) = getmaxmin(sloped)\n",
    "    sloperangeslider.start = minslope\n",
    "    sloperangeslider.end = maxslope\n",
    "    manipulate = sloped.where(np.logical_and(sloped>border[0],sloped<border[1]))\n",
    "    return manipulate.hvplot.image(rasterize = True, geo = True, tiles = 'OSM', cmap = cmapwidget)"
   ]
  },
  {
   "cell_type": "code",
   "execution_count": null,
   "metadata": {},
   "outputs": [],
   "source": [
    "@pn.depends(x=tap_stream.param.x, y=tap_stream.param.y, border = aspectrangeslider)\n",
    "def aspect(x,y, border):\n",
    "    global maxaspect\n",
    "    global minasepct\n",
    "    global data\n",
    "    aspects = xrs.aspect(data)\n",
    "    (minaspect,maxaspect) = getmaxmin(data)\n",
    "    aspectrangeslider.start = minaspect\n",
    "    aspectrangeslider.end = maxaspect\n",
    "    manipulate = aspects.where(np.logical_and(aspects>border[0],aspects<border[1]))\n",
    "    return manipulate.hvplot.image(rasterize = True, geo = True, tiles = 'OSM', cmap = cmapwidget)"
   ]
  },
  {
   "cell_type": "code",
   "execution_count": null,
   "metadata": {},
   "outputs": [],
   "source": [
    "@pn.depends(x=tap_stream.param.x, y=tap_stream.param.y, border = curveaturerangeslider)\n",
    "def curvature(x,y, border):\n",
    "    global maxcurve\n",
    "    global mincurve\n",
    "    global data\n",
    "    curvature = xrs.aspect(data)\n",
    "    (mincurve,maxcurve) = getmaxmin(data)\n",
    "    curveaturerangeslider.start = mincurve\n",
    "    curveaturerangeslider.end = maxcurve\n",
    "    manipulate = curvature.where(np.logical_and(curvature>border[0],curvature<border[1]))\n",
    "    return manipulate.hvplot.image(rasterize = True, geo = True, tiles = 'OSM', cmap = cmapwidget)"
   ]
  },
  {
   "cell_type": "markdown",
   "metadata": {},
   "source": [
    "# Creating the canvas for each tab"
   ]
  },
  {
   "cell_type": "code",
   "execution_count": null,
   "metadata": {},
   "outputs": [],
   "source": [
    "selector = pn.Column(pn.panel(lat_lon, width=500), (tiles * click))\n",
    "option = pn.Column(options,selector,cmapwidget)\n",
    "quantileview = pn.Row(quantile, heightquantileslider)\n",
    "heightrangeview = pn.Row(heightrange, pn.Column(heightrangeslider,heightpercentpanel))\n",
    "slopeview = pn.Row(slope, sloperangeslider)\n",
    "aspectview = pn.Row(aspect, aspectrangeslider)\n",
    "curvatureview = pn.Row(curvature, curveaturerangeslider)"
   ]
  },
  {
   "cell_type": "code",
   "execution_count": null,
   "metadata": {},
   "outputs": [],
   "source": [
    "dashboard = pn.Tabs(('Options',option), \n",
    "                    (\"Shaded View\", shaded),\n",
    "                    ('Height Range', heightrangeview),\n",
    "                    ('Height Quantile', quantileview),\n",
    "                    ('Aspect View', aspectview),\n",
    "                    ('Slope View', slopeview),\n",
    "                    ('Curvature View', curvatureview),\n",
    "                    dynamic = True\n",
    "                   )"
   ]
  },
  {
   "cell_type": "code",
   "execution_count": null,
   "metadata": {},
   "outputs": [],
   "source": [
    "dashboard.servable()"
   ]
  },
  {
   "cell_type": "code",
   "execution_count": null,
   "metadata": {},
   "outputs": [],
   "source": [
    "link"
   ]
  },
  {
   "cell_type": "code",
   "execution_count": null,
   "metadata": {},
   "outputs": [],
   "source": [
    "test"
   ]
  },
  {
   "cell_type": "code",
   "execution_count": null,
   "metadata": {},
   "outputs": [],
   "source": []
  }
 ],
 "metadata": {
  "kernelspec": {
   "display_name": "Python [conda env:dem]",
   "language": "python",
   "name": "conda-env-dem-py"
  },
  "language_info": {
   "codemirror_mode": {
    "name": "ipython",
    "version": 3
   },
   "file_extension": ".py",
   "mimetype": "text/x-python",
   "name": "python",
   "nbconvert_exporter": "python",
   "pygments_lexer": "ipython3",
   "version": "3.8.4"
  }
 },
 "nbformat": 4,
 "nbformat_minor": 4
}
